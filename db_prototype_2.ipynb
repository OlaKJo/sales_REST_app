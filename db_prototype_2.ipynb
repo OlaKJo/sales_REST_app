{
 "cells": [
  {
   "cell_type": "code",
   "execution_count": 1,
   "metadata": {},
   "outputs": [
    {
     "name": "stderr",
     "output_type": "stream",
     "text": [
      "/Users/oes/anaconda3/anaconda3/lib/python3.7/site-packages/IPython/core/interactiveshell.py:3058: DtypeWarning: Columns (10,12) have mixed types. Specify dtype option on import or set low_memory=False.\n",
      "  interactivity=interactivity, compiler=compiler, result=result)\n"
     ]
    }
   ],
   "source": [
    "# rest_app/init_db.py\n",
    "import sqlite3\n",
    "import pandas as pd\n",
    "\n",
    "# In order for the following to work you must have the data files on hand and in the data directory\n",
    "\n",
    "sqliteConnection = sqlite3.connect('data/sales2.db')\n",
    "sqliteCursor = sqliteConnection.cursor()\n",
    "\n",
    "# Drop tables if there are tables which these names present\n",
    "sqliteCursor.execute('''DROP TABLE IF EXISTS sales''')\n",
    "sqliteCursor.execute('''DROP TABLE IF EXISTS store_cities''')\n",
    "sqliteCursor.execute('''DROP TABLE IF EXISTS product_hierarchy''')\n",
    "\n",
    "# Create the appropriate tables with schemas as defined below\n",
    "sqliteCursor.execute('''CREATE TABLE IF NOT EXISTS sales (sales_index,product_id,store_id,date,sales,revenue,stock,price,promo_type_1,promo_bin_1,promo_type_2,promo_bin_2,promo_discount_2,promo_discount_type_2)''')\n",
    "sqliteCursor.execute('''CREATE TABLE IF NOT EXISTS store_cities (store_index,store_id,storetype_id,store_size,city_id)''')\n",
    "sqliteCursor.execute('''CREATE TABLE IF NOT EXISTS product_hierarchy (product_index,product_id,product_length,product_depth,product_width,cluster_id,hierarchy1_id,hierarchy2_id,hierarchy3_id,hierarchy4_id,hierarchy5_id)''')\n",
    "\n",
    "# load the data into a Pandas DataFrame\n",
    "salesData = pd.read_csv('data/sales.csv/sales.csv')\n",
    "salesData['sales_index'] = range(1, len(salesData) + 1)\n",
    "\n",
    "prodData = pd.read_csv('data/product_hierarchy.csv')\n",
    "prodData['product_index'] = range(1, len(prodData) + 1)\n",
    "\n",
    "storeData = pd.read_csv('data/store_cities.csv')\n",
    "storeData['store_index'] = range(1, len(storeData) + 1)\n",
    "\n",
    "# write the data to sqlite tables in the db\n",
    "salesData.to_sql('sales', sqliteConnection, if_exists='append', index=False)\n",
    "prodData.to_sql('product_hierarchy', sqliteConnection, if_exists='append', index=False)\n",
    "storeData.to_sql('store_cities', sqliteConnection, if_exists='append', index=False)"
   ]
  },
  {
   "cell_type": "code",
   "execution_count": 2,
   "metadata": {},
   "outputs": [
    {
     "data": {
      "text/plain": [
       "<sqlite3.Cursor at 0x7fb450e55810>"
      ]
     },
     "execution_count": 2,
     "metadata": {},
     "output_type": "execute_result"
    }
   ],
   "source": [
    "sqliteCursor.execute('''CREATE INDEX sales_ind\n",
    "ON sales (sales_index)''') "
   ]
  },
  {
   "cell_type": "code",
   "execution_count": 3,
   "metadata": {},
   "outputs": [
    {
     "data": {
      "text/plain": [
       "<sqlite3.Cursor at 0x7fb450e55810>"
      ]
     },
     "execution_count": 3,
     "metadata": {},
     "output_type": "execute_result"
    }
   ],
   "source": [
    "sqliteCursor.execute('''CREATE INDEX store_ind\n",
    "ON store_cities (store_index)''') "
   ]
  },
  {
   "cell_type": "code",
   "execution_count": 5,
   "metadata": {},
   "outputs": [
    {
     "data": {
      "text/plain": [
       "<sqlite3.Cursor at 0x7fb450e55810>"
      ]
     },
     "execution_count": 5,
     "metadata": {},
     "output_type": "execute_result"
    }
   ],
   "source": [
    "sqliteCursor.execute('''CREATE INDEX product_ind\n",
    "ON product_hierarchy (product_index)''') "
   ]
  },
  {
   "cell_type": "code",
   "execution_count": null,
   "metadata": {},
   "outputs": [],
   "source": [
    "# execute the command to fetch all the data from the table emp\n",
    "sqliteCursor.execute(\"SELECT * FROM sales\")\n",
    "  \n",
    "# store all the fetched data in the ans variable\n",
    "ans = sqliteCursor.fetchall()\n",
    "  \n",
    "for i in ans:\n",
    "    print(i)"
   ]
  },
  {
   "cell_type": "code",
   "execution_count": null,
   "metadata": {},
   "outputs": [],
   "source": []
  },
  {
   "cell_type": "code",
   "execution_count": null,
   "metadata": {},
   "outputs": [],
   "source": []
  }
 ],
 "metadata": {
  "kernelspec": {
   "display_name": "Python 3",
   "language": "python",
   "name": "python3"
  },
  "language_info": {
   "codemirror_mode": {
    "name": "ipython",
    "version": 3
   },
   "file_extension": ".py",
   "mimetype": "text/x-python",
   "name": "python",
   "nbconvert_exporter": "python",
   "pygments_lexer": "ipython3",
   "version": "3.7.4"
  }
 },
 "nbformat": 4,
 "nbformat_minor": 4
}
